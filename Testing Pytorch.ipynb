{
 "cells": [
  {
   "cell_type": "code",
   "execution_count": 1,
   "id": "f1e186f8-d604-46f0-bba2-e43b7ec7f52d",
   "metadata": {},
   "outputs": [],
   "source": [
    "#%pip install torch torchvision torchaudio"
   ]
  },
  {
   "cell_type": "code",
   "execution_count": 10,
   "id": "6beb3790-98a5-425c-890e-8aed74a2a02d",
   "metadata": {},
   "outputs": [],
   "source": [
    "import torch"
   ]
  },
  {
   "cell_type": "code",
   "execution_count": 11,
   "id": "0169ce9c-d8f9-47aa-8d4d-25897bf1a371",
   "metadata": {},
   "outputs": [
    {
     "data": {
      "text/plain": [
       "True"
      ]
     },
     "execution_count": 11,
     "metadata": {},
     "output_type": "execute_result"
    }
   ],
   "source": [
    "torch.cuda.is_available()"
   ]
  },
  {
   "cell_type": "code",
   "execution_count": 12,
   "id": "bc41c52b-f8aa-4dc1-9a9f-7cb7a369f7bb",
   "metadata": {},
   "outputs": [],
   "source": [
    "a = torch.rand(1,10)"
   ]
  },
  {
   "cell_type": "code",
   "execution_count": 13,
   "id": "ca5dde0c-47be-4467-ae90-460e70fa0ea0",
   "metadata": {},
   "outputs": [
    {
     "data": {
      "text/plain": [
       "tensor([[0.8272, 0.2934, 0.7986, 0.6793, 0.1181, 0.6438, 0.2988, 0.8412, 0.0658,\n",
       "         0.5405]])"
      ]
     },
     "execution_count": 13,
     "metadata": {},
     "output_type": "execute_result"
    }
   ],
   "source": [
    "a"
   ]
  },
  {
   "cell_type": "code",
   "execution_count": 14,
   "id": "20a7fc7c-f67f-4096-84f0-d63cae5c2dc5",
   "metadata": {},
   "outputs": [],
   "source": [
    "a=[]\n",
    "for i in range(10):\n",
    "    a.append(torch.rand(1,10))"
   ]
  },
  {
   "cell_type": "code",
   "execution_count": 16,
   "id": "7a2f63df-5c81-4c04-bfa5-87723599613d",
   "metadata": {},
   "outputs": [
    {
     "name": "stdout",
     "output_type": "stream",
     "text": [
      "10\n",
      "torch.Size([1, 10])\n"
     ]
    }
   ],
   "source": [
    "print(len(a))\n",
    "print(a[0].shape)"
   ]
  },
  {
   "cell_type": "code",
   "execution_count": 17,
   "id": "8d31071c-fa8e-4380-ac70-6dab61b7035b",
   "metadata": {},
   "outputs": [
    {
     "name": "stderr",
     "output_type": "stream",
     "text": [
      "/tmp/ipykernel_14221/634085534.py:2: UserWarning: An output with one or more elements was resized since it had shape [10, 1, 10], which does not match the required output shape [10, 10]. This behavior is deprecated, and in a future PyTorch release outputs will not be resized unless they have zero elements. You can explicitly reuse an out tensor t by resizing it, inplace, to zero elements with t.resize_(0). (Triggered internally at ../aten/src/ATen/native/Resize.cpp:28.)\n",
      "  torch.cat(a, out=b)\n"
     ]
    },
    {
     "data": {
      "text/plain": [
       "tensor([[0.3109, 0.8887, 0.6243, 0.5740, 0.1396, 0.8681, 0.2467, 0.9656, 0.5947,\n",
       "         0.4324],\n",
       "        [0.9523, 0.8173, 0.8701, 0.8126, 0.9067, 0.9285, 0.8916, 0.9214, 0.1100,\n",
       "         0.9049],\n",
       "        [0.3982, 0.1417, 0.8455, 0.0188, 0.8599, 0.1110, 0.0134, 0.3134, 0.2477,\n",
       "         0.5553],\n",
       "        [0.5704, 0.0742, 0.7791, 0.3132, 0.5750, 0.3035, 0.0089, 0.2052, 0.9976,\n",
       "         0.4892],\n",
       "        [0.6090, 0.0375, 0.0824, 0.7937, 0.6914, 0.4407, 0.3626, 0.5142, 0.1409,\n",
       "         0.8135],\n",
       "        [0.8760, 0.8489, 0.2023, 0.2099, 0.7765, 0.5352, 0.6632, 0.0013, 0.6420,\n",
       "         0.2334],\n",
       "        [0.4389, 0.1489, 0.6542, 0.9040, 0.8807, 0.0500, 0.0294, 0.8357, 0.6210,\n",
       "         0.6719],\n",
       "        [0.6261, 0.1185, 0.8343, 0.0114, 0.1974, 0.8012, 0.8484, 0.9134, 0.3226,\n",
       "         0.8730],\n",
       "        [0.7221, 0.5021, 0.6461, 0.8591, 0.3493, 0.2955, 0.8053, 0.1423, 0.0052,\n",
       "         0.1828],\n",
       "        [0.5828, 0.6128, 0.1686, 0.7622, 0.9288, 0.0861, 0.9700, 0.5576, 0.7677,\n",
       "         0.4405]])"
      ]
     },
     "execution_count": 17,
     "metadata": {},
     "output_type": "execute_result"
    }
   ],
   "source": [
    "b = torch.Tensor(len(a), a[0].shape[0], a[0].shape[1])\n",
    "torch.cat(a, out=b)"
   ]
  },
  {
   "cell_type": "code",
   "execution_count": 19,
   "id": "b492c712-59e2-43a3-b685-96ad1815903a",
   "metadata": {},
   "outputs": [
    {
     "data": {
      "text/plain": [
       "torch.Size([10, 10])"
      ]
     },
     "execution_count": 19,
     "metadata": {},
     "output_type": "execute_result"
    }
   ],
   "source": [
    "b.shape"
   ]
  },
  {
   "cell_type": "code",
   "execution_count": 20,
   "id": "8fcc829f-5fc2-4a3a-aa4b-4a9dc607349b",
   "metadata": {},
   "outputs": [],
   "source": [
    "torch.save(b, 'tensor.pt')"
   ]
  },
  {
   "cell_type": "code",
   "execution_count": 22,
   "id": "cd7ce9ac-0cd4-4ca0-9faa-50a6fe3f3a84",
   "metadata": {},
   "outputs": [],
   "source": [
    "c=torch.load('tensor.pt')"
   ]
  },
  {
   "cell_type": "code",
   "execution_count": 23,
   "id": "1d882889-9e47-4c58-a350-a8f11a8631ee",
   "metadata": {},
   "outputs": [
    {
     "data": {
      "text/plain": [
       "tensor([[0.3109, 0.8887, 0.6243, 0.5740, 0.1396, 0.8681, 0.2467, 0.9656, 0.5947,\n",
       "         0.4324],\n",
       "        [0.9523, 0.8173, 0.8701, 0.8126, 0.9067, 0.9285, 0.8916, 0.9214, 0.1100,\n",
       "         0.9049],\n",
       "        [0.3982, 0.1417, 0.8455, 0.0188, 0.8599, 0.1110, 0.0134, 0.3134, 0.2477,\n",
       "         0.5553],\n",
       "        [0.5704, 0.0742, 0.7791, 0.3132, 0.5750, 0.3035, 0.0089, 0.2052, 0.9976,\n",
       "         0.4892],\n",
       "        [0.6090, 0.0375, 0.0824, 0.7937, 0.6914, 0.4407, 0.3626, 0.5142, 0.1409,\n",
       "         0.8135],\n",
       "        [0.8760, 0.8489, 0.2023, 0.2099, 0.7765, 0.5352, 0.6632, 0.0013, 0.6420,\n",
       "         0.2334],\n",
       "        [0.4389, 0.1489, 0.6542, 0.9040, 0.8807, 0.0500, 0.0294, 0.8357, 0.6210,\n",
       "         0.6719],\n",
       "        [0.6261, 0.1185, 0.8343, 0.0114, 0.1974, 0.8012, 0.8484, 0.9134, 0.3226,\n",
       "         0.8730],\n",
       "        [0.7221, 0.5021, 0.6461, 0.8591, 0.3493, 0.2955, 0.8053, 0.1423, 0.0052,\n",
       "         0.1828],\n",
       "        [0.5828, 0.6128, 0.1686, 0.7622, 0.9288, 0.0861, 0.9700, 0.5576, 0.7677,\n",
       "         0.4405]])"
      ]
     },
     "execution_count": 23,
     "metadata": {},
     "output_type": "execute_result"
    }
   ],
   "source": [
    "c"
   ]
  },
  {
   "cell_type": "code",
   "execution_count": 24,
   "id": "a1462583-0be4-4cdd-afc6-28ed7ca0985d",
   "metadata": {},
   "outputs": [
    {
     "name": "stdout",
     "output_type": "stream",
     "text": [
      "tensor([0.3109, 0.8887, 0.6243, 0.5740, 0.1396, 0.8681, 0.2467, 0.9656, 0.5947,\n",
      "        0.4324])\n",
      "tensor([0.9523, 0.8173, 0.8701, 0.8126, 0.9067, 0.9285, 0.8916, 0.9214, 0.1100,\n",
      "        0.9049])\n",
      "tensor([0.3982, 0.1417, 0.8455, 0.0188, 0.8599, 0.1110, 0.0134, 0.3134, 0.2477,\n",
      "        0.5553])\n",
      "tensor([0.5704, 0.0742, 0.7791, 0.3132, 0.5750, 0.3035, 0.0089, 0.2052, 0.9976,\n",
      "        0.4892])\n",
      "tensor([0.6090, 0.0375, 0.0824, 0.7937, 0.6914, 0.4407, 0.3626, 0.5142, 0.1409,\n",
      "        0.8135])\n",
      "tensor([0.8760, 0.8489, 0.2023, 0.2099, 0.7765, 0.5352, 0.6632, 0.0013, 0.6420,\n",
      "        0.2334])\n",
      "tensor([0.4389, 0.1489, 0.6542, 0.9040, 0.8807, 0.0500, 0.0294, 0.8357, 0.6210,\n",
      "        0.6719])\n",
      "tensor([0.6261, 0.1185, 0.8343, 0.0114, 0.1974, 0.8012, 0.8484, 0.9134, 0.3226,\n",
      "        0.8730])\n",
      "tensor([0.7221, 0.5021, 0.6461, 0.8591, 0.3493, 0.2955, 0.8053, 0.1423, 0.0052,\n",
      "        0.1828])\n",
      "tensor([0.5828, 0.6128, 0.1686, 0.7622, 0.9288, 0.0861, 0.9700, 0.5576, 0.7677,\n",
      "        0.4405])\n"
     ]
    }
   ],
   "source": [
    "for element in c:\n",
    "    print(element)"
   ]
  },
  {
   "cell_type": "code",
   "execution_count": null,
   "id": "49e0f1b3-b5c6-4b8d-a8a6-c3918594c146",
   "metadata": {},
   "outputs": [],
   "source": []
  }
 ],
 "metadata": {
  "kernelspec": {
   "display_name": "konza",
   "language": "python",
   "name": "konza"
  },
  "language_info": {
   "codemirror_mode": {
    "name": "ipython",
    "version": 3
   },
   "file_extension": ".py",
   "mimetype": "text/x-python",
   "name": "python",
   "nbconvert_exporter": "python",
   "pygments_lexer": "ipython3",
   "version": "3.10.12"
  }
 },
 "nbformat": 4,
 "nbformat_minor": 5
}
